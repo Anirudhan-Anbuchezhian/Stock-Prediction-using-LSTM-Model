{
 "cells": [
  {
   "cell_type": "code",
   "execution_count": null,
   "metadata": {},
   "outputs": [],
   "source": []
  },
  {
   "cell_type": "code",
   "execution_count": 1,
   "metadata": {},
   "outputs": [],
   "source": [
    "import requests\n",
    "from bs4 import BeautifulSoup as bs\n",
    "import re\n",
    "import json\n",
    "import pandas as pd\n",
    "\n",
    "def statement(r):\n",
    "    p = re.compile(r' var originalData = (.*?);\\r\\n\\r\\n\\r',re.DOTALL)\n",
    "    check = re.findall('var originalData = (.*?);\\r\\n\\r\\n\\r', r.text)\n",
    "    data = json.loads(p.findall(r.text)[0])\n",
    "    headers = list(data[0].keys())\n",
    "    headers.remove('popup_icon')\n",
    "    result = []\n",
    "    for row in data:\n",
    "        soup = bs(row['field_name'])\n",
    "        field_name = soup.select_one('a, span').text\n",
    "        fields = list(row.values())[2:]\n",
    "        fields.insert(0, field_name)\n",
    "        result.append(fields)\n",
    "    pd.option_context('display.max_rows', None, 'display.max_columns', None)\n",
    "    return pd.DataFrame(result, columns = headers)\n",
    "    \n",
    "\n",
    "Income_statment = statement(requests.get('https://www.macrotrends.net/stocks/charts/AAPL/apple/income-statement?freq=Q'))\n",
    "Balance_sheet = statement(requests.get('https://www.macrotrends.net/stocks/charts/AAPL/apple/balance-sheet?freq=Q'))\n",
    "Cash_flow = statement(requests.get('https://www.macrotrends.net/stocks/charts/AAPL/apple/cash-flow-statement?freq=Q'))\n",
    "\n",
    "frames = [Income_statment, Balance_sheet, Cash_flow]\n",
    "df = pd.concat(frames)\n",
    "df.rename(columns={'field_name':'Date'}, \n",
    "                 inplace=True)\n",
    "Finance_statment = df.transpose()\n",
    "#print(Finance_statment)\n",
    "#Finance_statment['field_name'] =pd.to_datetime(Finance_statment.Date)\n",
    "#Finance_statment.sort('field_name')\n",
    "Finance_statment.to_csv('Financial_statement.csv', index = True, header=False)\n",
    "fs = pd.read_csv('Financial_statement.csv')\n",
    "fs['Date'] = pd.to_datetime(fs.Date)\n",
    "fs.sort_values(by=['Date'], inplace=True, ascending=True)\n",
    "#print(fs.head())\n",
    "fs.to_csv('Financial_statement.csv', index = False, header=True)"
   ]
  },
  {
   "cell_type": "code",
   "execution_count": null,
   "metadata": {},
   "outputs": [],
   "source": []
  }
 ],
 "metadata": {
  "kernelspec": {
   "display_name": "Python 3",
   "language": "python",
   "name": "python3"
  },
  "language_info": {
   "codemirror_mode": {
    "name": "ipython",
    "version": 3
   },
   "file_extension": ".py",
   "mimetype": "text/x-python",
   "name": "python",
   "nbconvert_exporter": "python",
   "pygments_lexer": "ipython3",
   "version": "3.8.5"
  }
 },
 "nbformat": 4,
 "nbformat_minor": 4
}
